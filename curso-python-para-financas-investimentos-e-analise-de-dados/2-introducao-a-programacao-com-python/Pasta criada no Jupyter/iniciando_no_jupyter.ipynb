{
 "cells": [
  {
   "cell_type": "code",
   "execution_count": 1,
   "id": "098f1d65-c793-40d6-a4a7-d1a803b7ef20",
   "metadata": {},
   "outputs": [
    {
     "name": "stdout",
     "output_type": "stream",
     "text": [
      "[1, 2, 3, 4, 5, 6, 7]\n"
     ]
    }
   ],
   "source": [
    "x: list[int] = [1,2,3,4,5,6,7]\n",
    "print(x)"
   ]
  },
  {
   "cell_type": "markdown",
   "id": "3967e80e-cb47-4417-8ed6-ac915bbe224c",
   "metadata": {},
   "source": [
    "Esta é uma célula Markdown, que contém textos informativos"
   ]
  },
  {
   "cell_type": "code",
   "execution_count": 2,
   "id": "726f7af1-be2f-4a25-912c-eddf9ed6c340",
   "metadata": {},
   "outputs": [
    {
     "name": "stdout",
     "output_type": "stream",
     "text": [
      "Teste Jupyter\n"
     ]
    }
   ],
   "source": [
    "print(\"Teste Jupyter\")"
   ]
  }
 ],
 "metadata": {
  "kernelspec": {
   "display_name": "Python 3 (ipykernel)",
   "language": "python",
   "name": "python3"
  },
  "language_info": {
   "codemirror_mode": {
    "name": "ipython",
    "version": 3
   },
   "file_extension": ".py",
   "mimetype": "text/x-python",
   "name": "python",
   "nbconvert_exporter": "python",
   "pygments_lexer": "ipython3",
   "version": "3.11.2"
  }
 },
 "nbformat": 4,
 "nbformat_minor": 5
}

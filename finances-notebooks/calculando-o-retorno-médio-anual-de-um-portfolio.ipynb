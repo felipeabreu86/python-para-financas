{
 "cells": [
  {
   "cell_type": "markdown",
   "metadata": {},
   "source": [
    "## Cálculo do Retorno de uma Carteira de Ações\n"
   ]
  },
  {
   "cell_type": "code",
   "execution_count": null,
   "metadata": {},
   "outputs": [],
   "source": [
    "import numpy as np\n",
    "import pandas as pd\n",
    "import matplotlib.pyplot as plt\n",
    "import yfinance as yf\n",
    "from datetime import datetime"
   ]
  },
  {
   "cell_type": "markdown",
   "metadata": {},
   "source": [
    "Definição dos ativos financeiros e seus pesos (%) nas carteiras Brasileira e Americana."
   ]
  },
  {
   "cell_type": "code",
   "execution_count": null,
   "metadata": {},
   "outputs": [],
   "source": [
    "br_tickers_n_weights = (\n",
    "    (\"WEGE3.SA\", 0.0714),\n",
    "    (\"ARZZ3.SA\", 0.0250),\n",
    "    (\"LREN3.SA\", 0.0250),\n",
    "    (\"GRND3.SA\", 0.0250),\n",
    "    (\"LEVE3.SA\", 0.0250),\n",
    "    (\"ABEV3.SA\", 0.0500),\n",
    "    (\"MDIA3.SA\", 0.0500),\n",
    "    (\"SLCE3.SA\", 0.0500),\n",
    "    (\"PSSA3.SA\", 0.0714),\n",
    "    (\"B3SA3.SA\", 0.0500),\n",
    "    (\"ITUB3.SA\", 0.0714),\n",
    "    (\"BBAS3.SA\", 0.0714),\n",
    "    (\"RADL3.SA\", 0.0500),\n",
    "    (\"ODPV3.SA\", 0.0250),\n",
    "    (\"FLRY3.SA\", 0.0250),\n",
    "    (\"HYPE3.SA\", 0.0250),\n",
    "    (\"VIVT3.SA\", 0.0500),\n",
    "    (\"SAPR3.SA\", 0.0250),\n",
    "    (\"CPFE3.SA\", 0.0714),\n",
    "    (\"EGIE3.SA\", 0.0714),\n",
    "    (\"EQTL3.SA\", 0.0714),\n",
    ")\n",
    "\n",
    "usa_tickers_n_weights = (\n",
    "    (\"ACN\", 0.0419047619047619),\n",
    "    (\"NKE\", 0.0419047619047619),\n",
    "    (\"TXN\", 0.0419047619047619),\n",
    "    (\"ROST\", 0.0419047619047619),\n",
    "    (\"AJG\", 0.0200000000000000),\n",
    "    (\"HD\", 0.0419047619047619),\n",
    "    (\"FAST\", 0.0419047619047619),\n",
    "    (\"TTC\", 0.0419047619047619),\n",
    "    (\"AAPL\", 0.0419047619047619),\n",
    "    (\"EXPD\", 0.0419047619047619),\n",
    "    (\"ADBE\", 0.0419047619047619),\n",
    "    (\"DIS\", 0.0400000000000000),\n",
    "    (\"COST\", 0.0419047619047619),\n",
    "    (\"DG\", 0.0200000000000000),\n",
    "    (\"JPM\", 0.0419047619047619),\n",
    "    (\"JNJ\", 0.0419047619047619),\n",
    "    (\"PAYX\", 0.0419047619047619),\n",
    "    (\"BLK\", 0.0419047619047619),\n",
    "    (\"WST\", 0.0419047619047619),\n",
    "    (\"CPRT\", 0.0200000000000000),\n",
    "    (\"PG\", 0.0419047619047619),\n",
    "    (\"GOOGL\", 0.0419047619047619),\n",
    "    (\"MSFT\", 0.0419047619047619),\n",
    "    (\"UNH\", 0.0419047619047619),    \n",
    "    (\"IDXX\", 0.0200000000000000),\n",
    "    (\"VOO\", 0.0419047619047619),\n",
    "    # (\"MMM\", 0.0000000000000000),\n",
    "    # (\"SOLV\", 0.0000000000000000),\n",
    ")\n",
    "\n",
    "usa_etf_tickers_n_weights = (\n",
    "    (\"TLT\", 0.4000),\n",
    "    (\"IEF\", 0.1500),\n",
    ")\n",
    "\n",
    "br_index_ticker = \"^BVSP\"\n",
    "\n",
    "usa_index_ticker = \"^GSPC\""
   ]
  },
  {
   "cell_type": "markdown",
   "metadata": {},
   "source": [
    "Download dos dados dos ativos financeiros a partir do Yahoo Finance a partir de 02/02/2011."
   ]
  },
  {
   "cell_type": "code",
   "execution_count": null,
   "metadata": {},
   "outputs": [],
   "source": [
    "br_stock_data = pd.DataFrame()\n",
    "\n",
    "usa_stock_data = pd.DataFrame()\n",
    "usa_etf_stock_data = pd.DataFrame()\n",
    "\n",
    "br_index_data = pd.DataFrame()\n",
    "usa_index_data = pd.DataFrame()\n",
    "\n",
    "start_date: str = f\"{datetime.now().year - 1}-{datetime.now().month}-{datetime.now().day}\"\n",
    "# start_date: str = \"2012-01-01\"\n",
    "end_date: str = datetime.now().strftime(\"%Y-%m-%d\")\n",
    "\n",
    "for t in br_tickers_n_weights:\n",
    "    ticker: str = t[0]\n",
    "    br_stock_data[ticker]: dict = yf.download(\n",
    "        ticker, progress=False, start=start_date, end=end_date\n",
    "    )[\"Adj Close\"]\n",
    "\n",
    "for t in usa_tickers_n_weights:\n",
    "    ticker: str = t[0]\n",
    "    usa_stock_data[ticker]: dict = yf.download(\n",
    "        ticker, progress=False, start=start_date, end=end_date\n",
    "    )[\"Adj Close\"]\n",
    "\n",
    "for t in usa_etf_tickers_n_weights:\n",
    "    ticker: str = t[0]\n",
    "    usa_etf_stock_data[ticker]: dict = yf.download(\n",
    "        ticker, progress=False, start=start_date, end=end_date\n",
    "    )[\"Adj Close\"]\n",
    "\n",
    "br_index_data[br_index_ticker]: dict = yf.download(\n",
    "    br_index_ticker, progress=False, start=start_date, end=end_date\n",
    ")[\"Adj Close\"]\n",
    "\n",
    "usa_index_data[usa_index_ticker]: dict = yf.download(\n",
    "    usa_index_ticker,\n",
    "    progress=False,\n",
    "    start=start_date,\n",
    "    end=end_date,\n",
    ")[\"Adj Close\"]"
   ]
  },
  {
   "cell_type": "markdown",
   "metadata": {},
   "source": [
    "---\n"
   ]
  },
  {
   "cell_type": "markdown",
   "metadata": {},
   "source": [
    "### Gráficos"
   ]
  },
  {
   "cell_type": "markdown",
   "metadata": {},
   "source": [
    "Gráfico Normalizado das Ações Brasileiras:"
   ]
  },
  {
   "cell_type": "code",
   "execution_count": null,
   "metadata": {},
   "outputs": [],
   "source": [
    "(br_stock_data / br_stock_data.iloc[0] * 100).plot(figsize=(20, 10))\n",
    "plt.show()"
   ]
  },
  {
   "cell_type": "markdown",
   "metadata": {},
   "source": [
    "Gráfico Normalizado do Índice Brasileiro:"
   ]
  },
  {
   "cell_type": "code",
   "execution_count": null,
   "metadata": {},
   "outputs": [],
   "source": [
    "(br_index_data / br_index_data.iloc[0] * 100).plot(figsize=(20, 8))\n",
    "plt.show()"
   ]
  },
  {
   "cell_type": "markdown",
   "metadata": {},
   "source": [
    "Gráfico Normalizado das Ações Americanas:"
   ]
  },
  {
   "cell_type": "code",
   "execution_count": null,
   "metadata": {},
   "outputs": [],
   "source": [
    "(usa_stock_data / usa_stock_data.iloc[0] * 100).plot(figsize=(20, 10))\n",
    "plt.show()"
   ]
  },
  {
   "cell_type": "markdown",
   "metadata": {},
   "source": [
    "Gráfico Normalizado dos ETFs Americanos:"
   ]
  },
  {
   "cell_type": "code",
   "execution_count": null,
   "metadata": {},
   "outputs": [],
   "source": [
    "(usa_etf_stock_data / usa_etf_stock_data.iloc[0] * 100).plot(figsize=(20, 10))\n",
    "plt.show()"
   ]
  },
  {
   "cell_type": "markdown",
   "metadata": {},
   "source": [
    "Gráfico Normalizado do Índice Americano:"
   ]
  },
  {
   "cell_type": "code",
   "execution_count": null,
   "metadata": {},
   "outputs": [],
   "source": [
    "(usa_index_data / usa_index_data.iloc[0] * 100).plot(figsize=(20, 8))\n",
    "plt.show()"
   ]
  },
  {
   "cell_type": "markdown",
   "metadata": {},
   "source": [
    "---\n"
   ]
  },
  {
   "cell_type": "markdown",
   "metadata": {},
   "source": [
    "### Calculando o Retorno Médio de uma Carteira de Ações\n"
   ]
  },
  {
   "cell_type": "markdown",
   "metadata": {},
   "source": [
    "Calcular o retorno simples dos ativos financeiros da carteira e armazenar os resultados em uma nova tabela.\n"
   ]
  },
  {
   "cell_type": "code",
   "execution_count": null,
   "metadata": {},
   "outputs": [],
   "source": [
    "br_index_returns = (br_index_data / br_index_data.shift(1)) - 1\n",
    "br_stock_returns = (br_stock_data / br_stock_data.shift(1)) - 1\n",
    "\n",
    "usa_index_returns = (usa_index_data / usa_index_data.shift(1)) - 1\n",
    "usa_stock_returns = (usa_stock_data / usa_stock_data.shift(1)) - 1\n",
    "usa_etf_returns = (usa_etf_stock_data / usa_etf_stock_data.shift(1)) - 1"
   ]
  },
  {
   "cell_type": "markdown",
   "metadata": {},
   "source": [
    "Armazenar os pesos dos ativos financeiros das carteiras para que se possa calcular o produto escalar dos retornos anuais com seus respectivos pesos.\n"
   ]
  },
  {
   "cell_type": "code",
   "execution_count": null,
   "metadata": {},
   "outputs": [],
   "source": [
    "br_weights = np.array([tw[1] for tw in br_tickers_n_weights])\n",
    "usa_weights = np.array([tw[1] for tw in usa_tickers_n_weights])\n",
    "usa_etf_weights = np.array([tw[1] for tw in usa_etf_tickers_n_weights])"
   ]
  },
  {
   "cell_type": "markdown",
   "metadata": {},
   "source": [
    "Calcular e exibir a rentabilidade média anual de cada ativo financeiro da carteira Brasileira."
   ]
  },
  {
   "cell_type": "code",
   "execution_count": null,
   "metadata": {},
   "outputs": [],
   "source": [
    "br_index_annual_returns = br_index_returns.mean() * 250\n",
    "br_stock_annual_returns = br_stock_returns.mean() * 250\n",
    "br_stock_annual_returns"
   ]
  },
  {
   "cell_type": "markdown",
   "metadata": {},
   "source": [
    "Calcular e exibir a rentabilidade média anual de cada ativo financeiro da carteira Americana."
   ]
  },
  {
   "cell_type": "code",
   "execution_count": null,
   "metadata": {},
   "outputs": [],
   "source": [
    "usa_index_annual_returns = usa_index_returns.mean() * 250\n",
    "usa_stock_annual_returns = usa_stock_returns.mean() * 250\n",
    "usa_stock_annual_returns"
   ]
  },
  {
   "cell_type": "code",
   "execution_count": null,
   "metadata": {},
   "outputs": [],
   "source": [
    "usa_etf_annual_returns = usa_etf_returns.mean() * 250\n",
    "usa_etf_annual_returns"
   ]
  },
  {
   "cell_type": "markdown",
   "metadata": {},
   "source": [
    "Calcular o produto escalar dos retornos anuais e seus pesos, em seguida, exibir o resultado percentual.\n"
   ]
  },
  {
   "cell_type": "code",
   "execution_count": null,
   "metadata": {},
   "outputs": [],
   "source": [
    "for i in (\n",
    "    (\n",
    "        \"Rentabilidade Média Anual do Portfólio BR:\",\n",
    "        br_stock_annual_returns,\n",
    "        br_weights,\n",
    "    ),\n",
    "    (\"Rentabilidade Média Anual do Índice BR:\", br_index_annual_returns, [1]),\n",
    "    (\n",
    "        \"\\nRentabilidade Média Anual do Portfólio USA:\",\n",
    "        usa_stock_annual_returns,\n",
    "        usa_weights,\n",
    "    ),\n",
    "    (\n",
    "        \"Rentabilidade Média Anual do Portfólio ETFs USA:\",\n",
    "        usa_etf_annual_returns,\n",
    "        usa_etf_weights,\n",
    "    ),\n",
    "    (\"Rentabilidade Média Anual do Índice USA:\", usa_index_annual_returns, [1]),\n",
    "):\n",
    "    produto_escalar = np.dot(i[1], i[2])\n",
    "    result = \"{0:.2f} %\".format(round(produto_escalar, 5) * 100)\n",
    "    print(i[0], result)"
   ]
  },
  {
   "cell_type": "markdown",
   "metadata": {},
   "source": [
    "O retorno desta carteira é satisfatório?\n"
   ]
  }
 ],
 "metadata": {
  "kernelspec": {
   "display_name": "Python 3",
   "language": "python",
   "name": "python3"
  },
  "language_info": {
   "codemirror_mode": {
    "name": "ipython",
    "version": 3
   },
   "file_extension": ".py",
   "mimetype": "text/x-python",
   "name": "python",
   "nbconvert_exporter": "python",
   "pygments_lexer": "ipython3",
   "version": "3.11.2"
  }
 },
 "nbformat": 4,
 "nbformat_minor": 2
}

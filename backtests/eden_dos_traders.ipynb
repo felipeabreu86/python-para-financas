{
 "cells": [
  {
   "cell_type": "markdown",
   "metadata": {},
   "source": [
    "Backtest da Estratégia Éden dos Traders.\n",
    "\n",
    "Fonte de consulta:\n",
    "https://quantbrasil.com.br/backtest-da-estrategia-de-ifr2-utilizando-medias-moveis-como-filtro/"
   ]
  },
  {
   "cell_type": "code",
   "execution_count": 1,
   "metadata": {},
   "outputs": [],
   "source": [
    "%%capture\n",
    "%load_ext blackcellmagic"
   ]
  },
  {
   "cell_type": "code",
   "execution_count": 2,
   "metadata": {},
   "outputs": [],
   "source": [
    "import yfinance as yf\n",
    "import numpy as np\n",
    "import warnings\n",
    "import matplotlib.pyplot as plt\n",
    "import pandas as pd\n",
    "\n",
    "pd.set_option(\"display.max_rows\", 500)\n",
    "pd.set_option(\"display.max_columns\", 500)\n",
    "pd.set_option(\"display.width\", 1000)\n",
    "\n",
    "warnings.filterwarnings(\"ignore\")"
   ]
  },
  {
   "cell_type": "markdown",
   "metadata": {},
   "source": [
    "Definição dos parâmetros de Backtest para a estratégia."
   ]
  },
  {
   "cell_type": "code",
   "execution_count": 3,
   "metadata": {},
   "outputs": [],
   "source": [
    "yahoo_finance_download = True\n",
    "mt5_download = not yahoo_finance_download\n",
    "save_to_csv = False\n",
    "\n",
    "initial_capital = 5000\n",
    "total_capital = [initial_capital]  # list with the total capital after every operation\n",
    "all_profits = []  # list with the results of every operation\n",
    "\n",
    "ticker, is_stock, start, end = \"BOVA11.SA\", True, \"2019-04-08\", \"2024-04-06\"\n",
    "\n",
    "round_entry = False # arredondar o tamanho da posição para lotes múltiplos de 100\n",
    "position_after_opposite_candle = True  # abrir posição somente quando o candle anterior for contra a tendência\n",
    "apply_stop = True  # usar o tamanho do candle anterior como cálculo para stop fixo\n",
    "stop_percent = 0.55  # define o tamanho do stop em uma vez e meia o tamanho do candle anterior"
   ]
  },
  {
   "cell_type": "code",
   "execution_count": 4,
   "metadata": {},
   "outputs": [
    {
     "name": "stderr",
     "output_type": "stream",
     "text": [
      "[*********************100%%**********************]  1 of 1 completed\n"
     ]
    }
   ],
   "source": [
    "if yahoo_finance_download:\n",
    "    df = yf.download(ticker, start, end)[[\"Open\", \"High\", \"Low\", \"Close\"]]"
   ]
  },
  {
   "cell_type": "code",
   "execution_count": 5,
   "metadata": {},
   "outputs": [],
   "source": [
    "from datetime import datetime\n",
    "\n",
    "import MetaTrader5 as mt5\n",
    "import pandas as pd\n",
    "\n",
    "if mt5_download:\n",
    "    # establish connection to MetaTrader 5 terminal\n",
    "    if not mt5.initialize():\n",
    "        print(\"initialize() failed, error code =\", mt5.last_error())\n",
    "        quit()\n",
    "\n",
    "    # create 'datetime' objects in UTC time zone to avoid the implementation of a local time zone offset\n",
    "    utc_from = datetime.strptime(start, \"%Y-%m-%d\")\n",
    "    utc_to = datetime.strptime(end, \"%Y-%m-%d\")\n",
    "\n",
    "    # get bars from BOVA11.SA M5 within the interval of 2020.01.10 00:00 - 2020.01.11 13:00 in UTC time zone\n",
    "    rates = mt5.copy_rates_range(ticker, mt5.TIMEFRAME_D1, utc_from, utc_to)\n",
    "\n",
    "    # shut down connection to the MetaTrader 5 terminal\n",
    "    mt5.shutdown()\n",
    "\n",
    "    # create DataFrame out of the obtained data\n",
    "    df = pd.DataFrame(rates)\n",
    "\n",
    "    # convert time in seconds into the 'datetime' format\n",
    "    df[\"time\"] = pd.to_datetime(df[\"time\"], unit=\"s\").dt.normalize()\n",
    "\n",
    "    df.drop(columns=[\"tick_volume\", \"spread\", \"real_volume\"], inplace=True)\n",
    "\n",
    "    df.rename(\n",
    "        columns={\n",
    "            \"time\": \"Date\",\n",
    "            \"open\": \"Open\",\n",
    "            \"high\": \"High\",\n",
    "            \"low\": \"Low\",\n",
    "            \"close\": \"Close\",\n",
    "        },\n",
    "        inplace=True,\n",
    "    )"
   ]
  },
  {
   "cell_type": "markdown",
   "metadata": {},
   "source": [
    "Cálculo das Médias Móveis Exponenciais de 8 e 80."
   ]
  },
  {
   "cell_type": "code",
   "execution_count": 6,
   "metadata": {},
   "outputs": [],
   "source": [
    "df['MME80'] = df[\"Close\"].ewm(span=80).mean()\n",
    "df['MME8'] = df[\"Close\"].ewm(span=8).mean()"
   ]
  },
  {
   "cell_type": "markdown",
   "metadata": {},
   "source": [
    "Calcular a variação de cada média, pois assim saberemos se ela está subindo (variação > 0) ou não."
   ]
  },
  {
   "cell_type": "code",
   "execution_count": 7,
   "metadata": {},
   "outputs": [],
   "source": [
    "df[\"Variation 8\"] = df[\"MME8\"].pct_change()\n",
    "df[\"Variation 80\"] = df[\"MME80\"].pct_change()"
   ]
  },
  {
   "cell_type": "code",
   "execution_count": 8,
   "metadata": {},
   "outputs": [],
   "source": [
    "def _buy_strategy(data):\n",
    "    condition_1 = df[\"Variation 8\"].shift(1) > 0\n",
    "    condition_2 = df[\"Variation 80\"].shift(1) > 0\n",
    "    condition_3 = df[\"MME8\"].shift(1) > df[\"MME80\"].shift(1)\n",
    "    condition_4 = (\n",
    "        df[\"Close\"].shift(1) < df[\"Open\"].shift(1)\n",
    "        if position_after_opposite_candle\n",
    "        else True\n",
    "    )\n",
    "\n",
    "    all_conditions = condition_1 & condition_2 & condition_3 & condition_4\n",
    "\n",
    "    data[\"Operation\"] = np.where(all_conditions, \"Buy\", np.nan)\n",
    "\n",
    "    data[\"Stop Price\"] = np.where(\n",
    "        all_conditions,\n",
    "        data[\"Open\"] - ((data[\"High\"].shift(1) - data[\"Low\"].shift(1)) * stop_percent),\n",
    "        np.nan,\n",
    "    )\n",
    "\n",
    "    # Define exact buy price\n",
    "    data[\"Entry Price\"] = np.where(all_conditions, data[\"Open\"], np.nan)\n",
    "\n",
    "    # Define exact sell price\n",
    "    if apply_stop:\n",
    "        data[\"Exit Price\"] = np.where(\n",
    "            all_conditions,\n",
    "            np.where(\n",
    "                data[\"Low\"] <= data[\"Stop Price\"], data[\"Stop Price\"], data[\"Close\"]\n",
    "            ),\n",
    "            np.nan,\n",
    "        )\n",
    "    else:\n",
    "        data[\"Exit Price\"] = np.where(\n",
    "            all_conditions,\n",
    "            data[\"Close\"],\n",
    "            np.nan,\n",
    "        )\n",
    "\n",
    "    return data"
   ]
  },
  {
   "cell_type": "code",
   "execution_count": 9,
   "metadata": {},
   "outputs": [],
   "source": [
    "def _sell_strategy(data):\n",
    "    condition_1 = df[\"Variation 8\"].shift(1) < 0\n",
    "    condition_2 = df[\"Variation 80\"].shift(1) < 0\n",
    "    condition_3 = df[\"MME8\"].shift(1) < df[\"MME80\"].shift(1)\n",
    "    condition_4 = (\n",
    "        df[\"Close\"].shift(1) > df[\"Open\"].shift(1)\n",
    "        if position_after_opposite_candle\n",
    "        else True\n",
    "    )\n",
    "\n",
    "    all_conditions = condition_1 & condition_2 & condition_3 & condition_4\n",
    "\n",
    "    data[\"Operation\"] = np.where(all_conditions, \"Sell\", data[\"Operation\"])\n",
    "\n",
    "    data[\"Stop Price\"] = np.where(\n",
    "        all_conditions,\n",
    "        data[\"Open\"] + ((data[\"High\"].shift(1) - data[\"Low\"].shift(1)) * stop_percent),\n",
    "        data[\"Stop Price\"],\n",
    "    )\n",
    "\n",
    "    # Define exact sell price\n",
    "    data[\"Entry Price\"] = np.where(all_conditions, data[\"Open\"], data[\"Entry Price\"])\n",
    "\n",
    "    # Define exact buy price\n",
    "    if apply_stop:\n",
    "        data[\"Exit Price\"] = np.where(\n",
    "            all_conditions,\n",
    "            np.where(\n",
    "                data[\"High\"] >= data[\"Stop Price\"],\n",
    "                data[\"Stop Price\"],\n",
    "                data[\"Close\"],\n",
    "            ),\n",
    "            data[\"Exit Price\"],\n",
    "        )\n",
    "    else:\n",
    "        data[\"Exit Price\"] = np.where(\n",
    "            all_conditions,\n",
    "            data[\"Close\"],\n",
    "            data[\"Exit Price\"],\n",
    "        )\n",
    "\n",
    "    return data"
   ]
  },
  {
   "cell_type": "code",
   "execution_count": 10,
   "metadata": {},
   "outputs": [],
   "source": [
    "def strategy_points(data):\n",
    "    data = _buy_strategy(data)\n",
    "    data = _sell_strategy(data)\n",
    "    return data"
   ]
  },
  {
   "cell_type": "markdown",
   "metadata": {},
   "source": [
    "Salvar os dados do trades em um arquivo no formato .csv"
   ]
  },
  {
   "cell_type": "code",
   "execution_count": 11,
   "metadata": {},
   "outputs": [],
   "source": [
    "from datetime import datetime\n",
    "\n",
    "if save_to_csv:\n",
    "    strategy_points(df).to_csv(f\"eden_dos_traders-{datetime.now().strftime('%Y_%m_%d')}.csv\", sep=\",\", index=False, encoding=\"utf-8\")"
   ]
  },
  {
   "cell_type": "markdown",
   "metadata": {},
   "source": [
    "Função para arredondar qualquer número para o menor múltiplo de 100."
   ]
  },
  {
   "cell_type": "code",
   "execution_count": 12,
   "metadata": {},
   "outputs": [],
   "source": [
    "from math import floor\n",
    "\n",
    "\n",
    "def round_down(x):\n",
    "    return int(floor(x / 100.0)) * 100"
   ]
  },
  {
   "cell_type": "code",
   "execution_count": 13,
   "metadata": {},
   "outputs": [],
   "source": [
    "from math import trunc\n",
    "\n",
    "\n",
    "def backtest_algorithm(data, initial_capital=initial_capital):\n",
    "    total_capital = [initial_capital]\n",
    "    all_profits = [0]\n",
    "\n",
    "    for i in range(0, len(data)):\n",
    "        if ~(np.isnan(data[\"Entry Price\"][i])):\n",
    "            entry = data[\"Entry Price\"][i]\n",
    "            operation = data[\"Operation\"][i]\n",
    "            exit = data[\"Exit Price\"][i]\n",
    "            profit = 0\n",
    "\n",
    "            if operation in (\"Buy\", \"Sell\"):\n",
    "                if is_stock:\n",
    "                    shares = (\n",
    "                        round_down(total_capital[-1] / entry)\n",
    "                        if round_entry\n",
    "                        else trunc(total_capital[-1] / entry)\n",
    "                    )\n",
    "                    taxes = (0.00025 * shares * entry) + (0.00025 * shares * exit)\n",
    "                    variation = (exit - entry) if operation == \"Buy\" else (entry - exit)\n",
    "                else:\n",
    "                    shares = 1\n",
    "                    taxes = (shares * 0.3) * 2\n",
    "                    variation = ((exit - entry) if operation == \"Buy\" else (entry - exit)) * 0.2\n",
    "\n",
    "                profit = (shares * variation) - taxes\n",
    "\n",
    "            all_profits += [profit]\n",
    "            current_capital = total_capital[-1]\n",
    "            total_capital += [current_capital + profit]\n",
    "\n",
    "    return all_profits, total_capital"
   ]
  },
  {
   "cell_type": "code",
   "execution_count": 14,
   "metadata": {},
   "outputs": [],
   "source": [
    "def get_drawdown(data, column=\"Close\"):\n",
    "    data[\"Max\"] = data[column].cummax()\n",
    "    data[\"Delta\"] = data[\"Max\"] - data[column]\n",
    "    data[\"Drawdown\"] = 100 * (data[\"Delta\"] / data[\"Max\"])\n",
    "    max_drawdown = data[\"Drawdown\"].max()\n",
    "    return max_drawdown"
   ]
  },
  {
   "cell_type": "code",
   "execution_count": 15,
   "metadata": {},
   "outputs": [],
   "source": [
    "def strategy_test(all_profits, total_capital):\n",
    "    num_operations = len(all_profits) - 1\n",
    "    gains = sum(x >= 0 for x in all_profits)\n",
    "    pct_gains = 100 * (gains / num_operations)\n",
    "    losses = num_operations - gains\n",
    "    pct_losses = 100 - pct_gains\n",
    "    total_profit = sum(all_profits)\n",
    "    pct_profit = (total_profit / total_capital[0]) * 100\n",
    "\n",
    "    total_capital = pd.DataFrame(data=total_capital, columns=[\"total_capital\"])\n",
    "    drawdown = get_drawdown(data=total_capital, column=\"total_capital\")\n",
    "\n",
    "    return {\n",
    "        \"num_operations\": num_operations,\n",
    "        \"gains\": gains,\n",
    "        \"pct_gains (%)\": pct_gains.round(),\n",
    "        \"losses\": losses,\n",
    "        \"pct_losses (%)\": pct_losses.round(),\n",
    "        \"total_profit (R$)\": total_profit,\n",
    "        \"pct_profit (%)\": pct_profit,\n",
    "        \"profit_per_operation\": pct_profit / num_operations,\n",
    "        \"drawdown (%)\": drawdown,\n",
    "    }"
   ]
  },
  {
   "cell_type": "code",
   "execution_count": 16,
   "metadata": {},
   "outputs": [],
   "source": [
    "def capital_plot(total_capital, all_profits):\n",
    "    cap_evolution = pd.DataFrame({\"Capital\": total_capital, \"Profit\": all_profits})\n",
    "    plt.title(\"Curva de Capital\")\n",
    "    plt.xlabel(\"Total Operações\")\n",
    "    cap_evolution[\"Capital\"].plot()"
   ]
  },
  {
   "cell_type": "code",
   "execution_count": 17,
   "metadata": {},
   "outputs": [
    {
     "data": {
      "text/html": [
       "<div>\n",
       "<style scoped>\n",
       "    .dataframe tbody tr th:only-of-type {\n",
       "        vertical-align: middle;\n",
       "    }\n",
       "\n",
       "    .dataframe tbody tr th {\n",
       "        vertical-align: top;\n",
       "    }\n",
       "\n",
       "    .dataframe thead th {\n",
       "        text-align: right;\n",
       "    }\n",
       "</style>\n",
       "<table border=\"1\" class=\"dataframe\">\n",
       "  <thead>\n",
       "    <tr style=\"text-align: right;\">\n",
       "      <th></th>\n",
       "      <th>num_operations</th>\n",
       "      <th>gains</th>\n",
       "      <th>pct_gains (%)</th>\n",
       "      <th>losses</th>\n",
       "      <th>pct_losses (%)</th>\n",
       "      <th>total_profit (R$)</th>\n",
       "      <th>pct_profit (%)</th>\n",
       "      <th>profit_per_operation</th>\n",
       "      <th>drawdown (%)</th>\n",
       "    </tr>\n",
       "  </thead>\n",
       "  <tbody>\n",
       "    <tr>\n",
       "      <th>Éden dos Traders</th>\n",
       "      <td>254</td>\n",
       "      <td>107</td>\n",
       "      <td>42.0</td>\n",
       "      <td>147</td>\n",
       "      <td>58.0</td>\n",
       "      <td>-297.28</td>\n",
       "      <td>-5.95</td>\n",
       "      <td>-0.02</td>\n",
       "      <td>17.14</td>\n",
       "    </tr>\n",
       "  </tbody>\n",
       "</table>\n",
       "</div>"
      ],
      "text/plain": [
       "                  num_operations  gains  pct_gains (%)  losses  pct_losses (%)  total_profit (R$)  pct_profit (%)  profit_per_operation  drawdown (%)\n",
       "Éden dos Traders             254    107           42.0     147            58.0            -297.28           -5.95                 -0.02         17.14"
      ]
     },
     "execution_count": 17,
     "metadata": {},
     "output_type": "execute_result"
    }
   ],
   "source": [
    "statistics, cap_evolution, df = {}, {}, strategy_points(data=df)\n",
    "\n",
    "all_profits, total_capital = backtest_algorithm(df)\n",
    "\n",
    "statistics[\"Éden dos Traders\"] = strategy_test(all_profits, total_capital)\n",
    "\n",
    "cap_evolution[\"Éden dos Traders\"] = {\n",
    "    \"all_profits\": all_profits,\n",
    "    \"total_capital\": total_capital,\n",
    "}\n",
    "\n",
    "statistics = pd.DataFrame.from_dict(statistics, orient=\"index\").round(2)\n",
    "statistics"
   ]
  },
  {
   "cell_type": "code",
   "execution_count": 18,
   "metadata": {},
   "outputs": [
    {
     "data": {
      "image/png": "[encoded data removed]",
      "text/plain": [
       "<Figure size 640x480 with 1 Axes>"
      ]
     },
     "metadata": {},
     "output_type": "display_data"
    }
   ],
   "source": [
    "capital_plot(total_capital, all_profits)"
   ]
  }
 ],
 "metadata": {
  "kernelspec": {
   "display_name": ".venv",
   "language": "python",
   "name": "python3"
  },
  "language_info": {
   "codemirror_mode": {
    "name": "ipython",
    "version": 3
   },
   "file_extension": ".py",
   "mimetype": "text/x-python",
   "name": "python",
   "nbconvert_exporter": "python",
   "pygments_lexer": "ipython3",
   "version": "3.11.2"
  }
 },
 "nbformat": 4,
 "nbformat_minor": 2
}
